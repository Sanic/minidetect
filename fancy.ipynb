{
 "cells": [
  {
   "cell_type": "markdown",
   "id": "4f2f1983",
   "metadata": {
    "heading_collapsed": true
   },
   "source": [
    "## imports "
   ]
  },
  {
   "cell_type": "code",
   "execution_count": 1,
   "id": "6a3756ea",
   "metadata": {
    "hidden": true
   },
   "outputs": [],
   "source": [
    "import os\n",
    "os.environ['TF_CPP_MIN_LOG_LEVEL'] = '3'  # or any {'0', '1', '2'}\n",
    "import numpy as np\n",
    "import matplotlib.pyplot as plt\n",
    "import seaborn as sns\n",
    "from keras import Sequential, layers, Input\n",
    "import ipyplot\n",
    "import cv2"
   ]
  },
  {
   "cell_type": "markdown",
   "id": "2175421e",
   "metadata": {
    "heading_collapsed": true
   },
   "source": [
    "## clean up your messy dataset"
   ]
  },
  {
   "cell_type": "markdown",
   "id": "7ea0df6a",
   "metadata": {
    "hidden": true
   },
   "source": [
    "I actually tried masking. the images don't give in. I can't get a good threshold for cutting out the unwanted part of the images. Might later try thresholding on every single colour and then mix the resulting three masks."
   ]
  },
  {
   "cell_type": "code",
   "execution_count": 2,
   "id": "5b506aab",
   "metadata": {
    "hidden": true,
    "scrolled": false
   },
   "outputs": [
    {
     "name": "stdout",
     "output_type": "stream",
     "text": [
      "shape of one image (100, 100, 3)\n",
      "len x 12567 len y12567 \n"
     ]
    }
   ],
   "source": [
    "imgs_path = os.getcwd() + \"/samples\"\n",
    "\n",
    "h=w=100 # height and width of the images we will feed into nn\n",
    "x = []\n",
    "y = []\n",
    "for i in os.listdir(imgs_path):\n",
    "    for j in os.listdir(imgs_path+\"/\"+i):\n",
    "        _im = cv2.imread (imgs_path+\"/\"+i+\"/\"+j)\n",
    "        _im = cv2.cvtColor(_im, cv2.COLOR_RGB2BGR)\n",
    "        _im = cv2.resize(_im, (h, w), interpolation=cv2.INTER_NEAREST)\n",
    "        x.append(_im)\n",
    "        y.append(i)\n",
    "        pass\n",
    "    pass\n",
    "\n",
    "#ipyplot.plot_images(x, max_images=30 , img_width=80)\n",
    "print(\"shape of one image {}\".format(x[0].shape))\n",
    "print(\"len x {} len y{} \".format(len(x),len(y)))"
   ]
  },
  {
   "cell_type": "code",
   "execution_count": 3,
   "id": "f437d3da",
   "metadata": {
    "hidden": true
   },
   "outputs": [
    {
     "name": "stdout",
     "output_type": "stream",
     "text": [
      "x_train shape: (8419, 100, 100, 3)\n",
      "8419 train samples\n",
      "4148 test samples\n"
     ]
    }
   ],
   "source": [
    "# Model parameters\n",
    "num_classes = len(set(y))\n",
    "input_shape = (h, w, 3) # 3 colour channels\n",
    "\n",
    "x = np.array(x, dtype=np.float32) / 255\n",
    "\n",
    "from sklearn.preprocessing import LabelBinarizer\n",
    "import pandas as pd\n",
    "encoder = LabelBinarizer()\n",
    "encoder.fit(list(set(y)))\n",
    "ef = pd.DataFrame(encoder.classes_)\n",
    "ef.to_csv('labels.csv', index=False, header=False)\n",
    "y = encoder.transform(y)\n",
    "\n",
    "# Load the data and split it between train and test sets\n",
    "from sklearn.model_selection import train_test_split\n",
    "x_train, x_test, y_train, y_test = train_test_split(x, y, test_size=0.33, random_state=42)\n",
    "\n",
    "print(\"x_train shape:\", x_train.shape)\n",
    "print(x_train.shape[0], \"train samples\")\n",
    "print(x_test.shape[0], \"test samples\")\n",
    "\n",
    "#ipyplot.plot_images(x_train, max_images=30 , img_width=80)"
   ]
  },
  {
   "cell_type": "markdown",
   "id": "f9a6835b",
   "metadata": {
    "heading_collapsed": true
   },
   "source": [
    "## make model"
   ]
  },
  {
   "cell_type": "code",
   "execution_count": 4,
   "id": "3d8f3d0c",
   "metadata": {
    "hidden": true
   },
   "outputs": [
    {
     "name": "stdout",
     "output_type": "stream",
     "text": [
      "Model: \"sequential\"\n",
      "_________________________________________________________________\n",
      " Layer (type)                Output Shape              Param #   \n",
      "=================================================================\n",
      " conv2d (Conv2D)             (None, 98, 98, 32)        896       \n",
      "                                                                 \n",
      " max_pooling2d (MaxPooling2D  (None, 49, 49, 32)       0         \n",
      " )                                                               \n",
      "                                                                 \n",
      " conv2d_1 (Conv2D)           (None, 47, 47, 64)        18496     \n",
      "                                                                 \n",
      " max_pooling2d_1 (MaxPooling  (None, 23, 23, 64)       0         \n",
      " 2D)                                                             \n",
      "                                                                 \n",
      " flatten (Flatten)           (None, 33856)             0         \n",
      "                                                                 \n",
      " dropout (Dropout)           (None, 33856)             0         \n",
      "                                                                 \n",
      " dense (Dense)               (None, 59)                1997563   \n",
      "                                                                 \n",
      "=================================================================\n",
      "Total params: 2,016,955\n",
      "Trainable params: 2,016,955\n",
      "Non-trainable params: 0\n",
      "_________________________________________________________________\n"
     ]
    }
   ],
   "source": [
    "model = Sequential(\n",
    "    [\n",
    "        Input(shape=input_shape),\n",
    "        layers.Conv2D(32, kernel_size=(3, 3), activation=\"relu\"),\n",
    "        layers.MaxPooling2D(pool_size=(2, 2)),\n",
    "        layers.Conv2D(64, kernel_size=(3, 3), activation=\"relu\"),\n",
    "        layers.MaxPooling2D(pool_size=(2, 2)),\n",
    "        layers.Flatten(),\n",
    "        layers.Dropout(0.5),\n",
    "        layers.Dense(num_classes, activation=\"softmax\"),\n",
    "    ]\n",
    ")\n",
    "\n",
    "model.summary()"
   ]
  },
  {
   "cell_type": "markdown",
   "id": "64a68c14",
   "metadata": {},
   "source": [
    "## do the actual work"
   ]
  },
  {
   "cell_type": "code",
   "execution_count": 5,
   "id": "afeec259",
   "metadata": {
    "scrolled": true
   },
   "outputs": [
    {
     "name": "stdout",
     "output_type": "stream",
     "text": [
      "Epoch 1/30\n",
      "60/60 [==============================] - 27s 450ms/step - loss: 1.3429 - accuracy: 0.6691 - val_loss: 0.3470 - val_accuracy: 0.9050\n",
      "Epoch 2/30\n",
      "60/60 [==============================] - 34s 565ms/step - loss: 0.1497 - accuracy: 0.9584 - val_loss: 0.1188 - val_accuracy: 0.9679\n",
      "Epoch 3/30\n",
      "60/60 [==============================] - 28s 463ms/step - loss: 0.0577 - accuracy: 0.9846 - val_loss: 0.0804 - val_accuracy: 0.9857\n",
      "Epoch 4/30\n",
      "60/60 [==============================] - 28s 465ms/step - loss: 0.0276 - accuracy: 0.9937 - val_loss: 0.0721 - val_accuracy: 0.9846\n",
      "Epoch 5/30\n",
      "60/60 [==============================] - 27s 448ms/step - loss: 0.0204 - accuracy: 0.9951 - val_loss: 0.0716 - val_accuracy: 0.9917\n",
      "Epoch 6/30\n",
      "60/60 [==============================] - 27s 452ms/step - loss: 0.0116 - accuracy: 0.9978 - val_loss: 0.0587 - val_accuracy: 0.9929\n",
      "Epoch 7/30\n",
      "60/60 [==============================] - 25s 419ms/step - loss: 0.0042 - accuracy: 0.9993 - val_loss: 0.0562 - val_accuracy: 0.9929\n",
      "Epoch 8/30\n",
      "60/60 [==============================] - 25s 423ms/step - loss: 0.0031 - accuracy: 0.9996 - val_loss: 0.0571 - val_accuracy: 0.9917\n",
      "Epoch 9/30\n",
      "60/60 [==============================] - 28s 463ms/step - loss: 0.0023 - accuracy: 0.9999 - val_loss: 0.0558 - val_accuracy: 0.9929\n",
      "Epoch 10/30\n",
      "60/60 [==============================] - 27s 454ms/step - loss: 0.0022 - accuracy: 0.9995 - val_loss: 0.0605 - val_accuracy: 0.9917\n",
      "Epoch 11/30\n",
      "60/60 [==============================] - 27s 448ms/step - loss: 0.0086 - accuracy: 0.9976 - val_loss: 0.0512 - val_accuracy: 0.9929\n",
      "Epoch 12/30\n",
      "60/60 [==============================] - 26s 439ms/step - loss: 0.0083 - accuracy: 0.9980 - val_loss: 0.0728 - val_accuracy: 0.9917\n",
      "Epoch 13/30\n",
      "60/60 [==============================] - 27s 453ms/step - loss: 0.0058 - accuracy: 0.9991 - val_loss: 0.0564 - val_accuracy: 0.9893\n",
      "Epoch 14/30\n",
      "60/60 [==============================] - 26s 435ms/step - loss: 0.0044 - accuracy: 0.9988 - val_loss: 0.0617 - val_accuracy: 0.9917\n",
      "Epoch 15/30\n",
      "60/60 [==============================] - 26s 437ms/step - loss: 0.0161 - accuracy: 0.9958 - val_loss: 0.0728 - val_accuracy: 0.9810\n",
      "Epoch 16/30\n",
      "60/60 [==============================] - 26s 428ms/step - loss: 0.0441 - accuracy: 0.9881 - val_loss: 0.0763 - val_accuracy: 0.9869\n",
      "Epoch 17/30\n",
      "60/60 [==============================] - 26s 428ms/step - loss: 0.0188 - accuracy: 0.9952 - val_loss: 0.0765 - val_accuracy: 0.9822\n",
      "Epoch 18/30\n",
      "60/60 [==============================] - 25s 424ms/step - loss: 0.0059 - accuracy: 0.9984 - val_loss: 0.0478 - val_accuracy: 0.9941\n",
      "Epoch 19/30\n",
      "60/60 [==============================] - 26s 428ms/step - loss: 0.0014 - accuracy: 0.9999 - val_loss: 0.0573 - val_accuracy: 0.9917\n",
      "Epoch 20/30\n",
      "60/60 [==============================] - 26s 427ms/step - loss: 5.8827e-04 - accuracy: 1.0000 - val_loss: 0.0535 - val_accuracy: 0.9929\n",
      "Epoch 21/30\n",
      "60/60 [==============================] - 26s 427ms/step - loss: 3.7755e-04 - accuracy: 1.0000 - val_loss: 0.0482 - val_accuracy: 0.9941\n",
      "Epoch 22/30\n",
      "60/60 [==============================] - 25s 422ms/step - loss: 2.0943e-04 - accuracy: 1.0000 - val_loss: 0.0512 - val_accuracy: 0.9941\n",
      "Epoch 23/30\n",
      "60/60 [==============================] - 25s 423ms/step - loss: 1.3595e-04 - accuracy: 1.0000 - val_loss: 0.0501 - val_accuracy: 0.9941\n",
      "Epoch 24/30\n",
      "60/60 [==============================] - 25s 424ms/step - loss: 1.5347e-04 - accuracy: 1.0000 - val_loss: 0.0507 - val_accuracy: 0.9941\n",
      "Epoch 25/30\n",
      "60/60 [==============================] - 25s 424ms/step - loss: 9.9040e-05 - accuracy: 1.0000 - val_loss: 0.0498 - val_accuracy: 0.9952\n",
      "Epoch 26/30\n",
      "60/60 [==============================] - 25s 424ms/step - loss: 8.4227e-05 - accuracy: 1.0000 - val_loss: 0.0513 - val_accuracy: 0.9941\n",
      "Epoch 27/30\n",
      "60/60 [==============================] - 25s 423ms/step - loss: 8.8821e-05 - accuracy: 1.0000 - val_loss: 0.0497 - val_accuracy: 0.9952\n",
      "Epoch 28/30\n",
      "60/60 [==============================] - 25s 422ms/step - loss: 7.3263e-05 - accuracy: 1.0000 - val_loss: 0.0528 - val_accuracy: 0.9952\n",
      "Epoch 29/30\n",
      "60/60 [==============================] - 25s 422ms/step - loss: 6.2677e-05 - accuracy: 1.0000 - val_loss: 0.0519 - val_accuracy: 0.9952\n",
      "Epoch 30/30\n",
      "60/60 [==============================] - 25s 421ms/step - loss: 6.2821e-05 - accuracy: 1.0000 - val_loss: 0.0517 - val_accuracy: 0.9952\n"
     ]
    }
   ],
   "source": [
    "batch_size = 128\n",
    "epochs = 30\n",
    "\n",
    "model.compile(loss=\"categorical_crossentropy\", optimizer=\"adam\", metrics=[\"accuracy\"])\n",
    "\n",
    "history = model.fit(x_train, y_train, batch_size=batch_size, epochs=epochs, validation_split=0.1)"
   ]
  },
  {
   "cell_type": "markdown",
   "id": "bbe88d31",
   "metadata": {},
   "source": [
    "## Prints and Plots"
   ]
  },
  {
   "cell_type": "code",
   "execution_count": 6,
   "id": "8ab09aea",
   "metadata": {},
   "outputs": [
    {
     "name": "stdout",
     "output_type": "stream",
     "text": [
      "Test loss: 0.035178594291210175\n",
      "Test accuracy: 0.9949373006820679\n"
     ]
    }
   ],
   "source": [
    "score = model.evaluate(x_test, y_test, verbose=0)\n",
    "print(\"Test loss:\", score[0])\n",
    "print(\"Test accuracy:\", score[1])"
   ]
  },
  {
   "cell_type": "code",
   "execution_count": 7,
   "id": "6be77da3",
   "metadata": {},
   "outputs": [
    {
     "data": {
      "image/png": "[encoded data removed]",
      "text/plain": [
       "<Figure size 640x480 with 1 Axes>"
      ]
     },
     "metadata": {},
     "output_type": "display_data"
    }
   ],
   "source": [
    "plt.plot(history.history['accuracy'], label=\"Training accuracy\")\n",
    "plt.plot(history.history['val_accuracy'], label=\"Validation accuracy\")\n",
    "plt.title('Training and validation accuracy')\n",
    "plt.xlabel('Epochs')\n",
    "plt.ylabel('Accuracy')\n",
    "plt.legend()\n",
    "plt.savefig('acc.png')\n",
    "plt.show()"
   ]
  },
  {
   "cell_type": "code",
   "execution_count": 8,
   "id": "65e2baf7",
   "metadata": {},
   "outputs": [],
   "source": [
    "model.save('obj_classification_small_model.h5')"
   ]
  }
 ],
 "metadata": {
  "kernelspec": {
   "display_name": "Python 3 (ipykernel)",
   "language": "python",
   "name": "python3"
  },
  "language_info": {
   "codemirror_mode": {
    "name": "ipython",
    "version": 3
   },
   "file_extension": ".py",
   "mimetype": "text/x-python",
   "name": "python",
   "nbconvert_exporter": "python",
   "pygments_lexer": "ipython3",
   "version": "3.8.10"
  }
 },
 "nbformat": 4,
 "nbformat_minor": 5
}
